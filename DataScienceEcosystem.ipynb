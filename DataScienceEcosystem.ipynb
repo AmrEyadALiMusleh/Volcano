{
 "cells": [
  {
   "cell_type": "markdown",
   "id": "f1a9ae36-a369-4202-80f0-48e3ceda9cad",
   "metadata": {},
   "source": [
    "<center>\n",
    "    <img src=\"https://cf-courses-data.s3.us.cloud-object-storage.appdomain.cloud/IBMDeveloperSkillsNetwork-DS0105EN-SkillsNetwork/labs/Module2/images/SN_web_lightmode.png\" width=\"300\" alt=\"cognitiveclass.ai logo\">\n",
    "</center>\n"
   ]
  },
  {
   "cell_type": "markdown",
   "id": "fe9cc44a-4efc-4d8c-869e-21aeef6c0954",
   "metadata": {},
   "source": [
    "# Data Science Tools and Ecosystem"
   ]
  },
  {
   "cell_type": "markdown",
   "id": "89479855-60bf-4b90-b581-37729aab389e",
   "metadata": {},
   "source": [
    "In this notebook, Data Science Tools and Ecosystem are summarized."
   ]
  },
  {
   "cell_type": "markdown",
   "id": "96c5a32f-2387-40be-8e63-13952d53186d",
   "metadata": {},
   "source": [
    "Some of the popular languages that Data Scientists use are:\n",
    "1. Python\n",
    "2. R\n",
    "3. SQL"
   ]
  },
  {
   "cell_type": "markdown",
   "id": "f0945853-298b-4980-91e7-ab35f6f7233b",
   "metadata": {},
   "source": [
    "**Objectives:**\n",
    "- List popular programming languages\n",
    "- Creating markdowns\n",
    "- Creating tabels\n",
    "- The diffreniattion between code cells and markdown cells\n",
    "- Create different types of Lists"
   ]
  },
  {
   "cell_type": "markdown",
   "id": "db7a2146-483c-4fe9-b331-4159bc86a983",
   "metadata": {},
   "source": [
    "Some of the commonly used libraries used by Data Scientists include:\n",
    "1. Numpy\n",
    "2. Pandas\n",
    "3. Matplotlib"
   ]
  },
  {
   "cell_type": "markdown",
   "id": "9304a4bf-43ea-4210-a9bf-3a8ff82461c4",
   "metadata": {},
   "source": [
    "| Data Science Tools|\n",
    "|-------------------|\n",
    "|R Studio|\n",
    "|Jupyter Notebook / JupyterLab|\n",
    "|VS Code|\n"
   ]
  },
  {
   "cell_type": "markdown",
   "id": "d2065deb-ebc6-4665-96ed-8698604de3b4",
   "metadata": {},
   "source": [
    "### Below are a few examples of evaluating arithmetic expressions in Python.\n",
    "5+4"
   ]
  },
  {
   "cell_type": "code",
   "execution_count": 6,
   "id": "42c51773-a5f8-46b1-8f2b-33b4e2a465de",
   "metadata": {},
   "outputs": [
    {
     "data": {
      "text/plain": [
       "17.0"
      ]
     },
     "execution_count": 6,
     "metadata": {},
     "output_type": "execute_result"
    }
   ],
   "source": [
    "#This a simple arithmetic expression to mutiply then add integers.\n",
    "(3*4)+5."
   ]
  },
  {
   "cell_type": "code",
   "execution_count": 13,
   "id": "1db809dd-dbfc-43a2-95e1-eaa8f72726ae",
   "metadata": {},
   "outputs": [
    {
     "data": {
      "text/plain": [
       "3.3333333333333335"
      ]
     },
     "execution_count": 13,
     "metadata": {},
     "output_type": "execute_result"
    }
   ],
   "source": [
    "#This will convert 200 minutes to hours by diving by 60.\n",
    "200/60\n"
   ]
  },
  {
   "cell_type": "markdown",
   "id": "e0c0b97a-3927-4a46-929a-0bc3ab43676d",
   "metadata": {},
   "source": [
    "## Author Name: \n",
    "Amr Eyad Ali Musleh"
   ]
  }
 ],
 "metadata": {
  "kernelspec": {
   "display_name": "Python [conda env:Amr]",
   "language": "python",
   "name": "conda-env-Amr-py"
  },
  "language_info": {
   "codemirror_mode": {
    "name": "ipython",
    "version": 3
   },
   "file_extension": ".py",
   "mimetype": "text/x-python",
   "name": "python",
   "nbconvert_exporter": "python",
   "pygments_lexer": "ipython3",
   "version": "3.13.5"
  }
 },
 "nbformat": 4,
 "nbformat_minor": 5
}
